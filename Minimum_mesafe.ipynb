{
 "cells": [
  {
   "cell_type": "code",
   "execution_count": 6,
   "id": "b4b94413-48f5-4e14-987b-e854bfea5c51",
   "metadata": {},
   "outputs": [
    {
     "name": "stdin",
     "output_type": "stream",
     "text": [
      "Kaç nokta gireceksiniz?  2\n",
      "Noktanın x koordinatını girin:  1\n",
      "Noktanın y koordinatını girin:  2\n",
      "Noktanın x koordinatını girin:  3\n",
      "Noktanın y koordinatını girin:  4\n"
     ]
    },
    {
     "name": "stdout",
     "output_type": "stream",
     "text": [
      "En kısa mesafe: 2.8284271247461903\n"
     ]
    }
   ],
   "source": [
    "import math\n",
    "\n",
    "# Öklid Mesafesi İçin Bir Fonksiyon Yazma\n",
    "def euclideanDistance(point1, point2):\n",
    "    return math.sqrt((point2[0] - point1[0]) ** 2 + (point2[1] - point1[1]) ** 2)\n",
    "\n",
    "# Kullanıcıdan Noktaların Alınması\n",
    "def getPoints():\n",
    "    points = []\n",
    "    num_points = int(input(\"Kaç nokta gireceksiniz? \"))\n",
    "    for _ in range(num_points):\n",
    "        x = float(input(\"Noktanın x koordinatını girin: \"))\n",
    "        y = float(input(\"Noktanın y koordinatını girin: \"))\n",
    "        points.append((x, y))\n",
    "    return points\n",
    "\n",
    "# Mesafelerin Hesaplanması ve Minimum Mesafenin Bulunması\n",
    "def findMinimumDistance(points):\n",
    "    distances = []\n",
    "    for i in range(len(points)):\n",
    "        for j in range(i + 1, len(points)):\n",
    "            dist = euclideanDistance(points[i], points[j])\n",
    "            distances.append(dist)\n",
    "    min_distance = min(distances)\n",
    "    return min_distance\n",
    "\n",
    "# Ana Program\n",
    "def main():\n",
    "    points = getPoints()\n",
    "    if len(points) < 2:\n",
    "        print(\"En az iki nokta girmeniz gerekmektedir.\")\n",
    "        return\n",
    "    min_distance = findMinimumDistance(points)\n",
    "    print(f'En kısa mesafe: {min_distance}')\n",
    "\n",
    "if __name__ == \"__main__\":\n",
    "    main()"
   ]
  }
 ],
 "metadata": {
  "kernelspec": {
   "display_name": "Python 3 (ipykernel)",
   "language": "python",
   "name": "python3"
  },
  "language_info": {
   "codemirror_mode": {
    "name": "ipython",
    "version": 3
   },
   "file_extension": ".py",
   "mimetype": "text/x-python",
   "name": "python",
   "nbconvert_exporter": "python",
   "pygments_lexer": "ipython3",
   "version": "3.11.7"
  }
 },
 "nbformat": 4,
 "nbformat_minor": 5
}
